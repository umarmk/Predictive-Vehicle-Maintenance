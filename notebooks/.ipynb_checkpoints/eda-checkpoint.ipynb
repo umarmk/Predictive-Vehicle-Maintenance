{
 "cells": [
  {
   "cell_type": "code",
   "metadata": {},
   "execution_count": null,
   "outputs": [],
   "source": [
    "# EDA for Predictive Vehicle Maintenance System\n",
    "import pandas as pd\n",
    "import matplotlib.pyplot as plt\n",
    "import seaborn as sns\n",
    "import numpy as np\n"
   ]
  },
  {
   "cell_type": "code",
   "metadata": {},
   "execution_count": null,
   "outputs": [],
   "source": [
    "# Load datasets\n",
    "data_paths = {\n",
    "    'ai4i2020': '../data/ai4i2020.csv',\n",
    "    'cleaned_vehicle_data': '../data/cleaned_vehicle_data.csv',\n",
    "    'engine_data': '../data/engine_data.csv',\n",
    "    'vehicle_sensor_data': '../data/vehicle_sensor_data.csv'\n",
    "}\n",
    "dfs = {name: pd.read_csv(path) for name, path in data_paths.items()}\n"
   ]
  },
  {
   "cell_type": "code",
   "metadata": {},
   "execution_count": null,
   "outputs": [],
   "source": [
    "# EDA: Distributions and Correlations\n",
    "for name, df in dfs.items():\n",
    "    num_cols = df.select_dtypes(include=[np.number]).columns\n",
    "    df[num_cols].hist(figsize=(15, 8))\n",
    "    plt.suptitle(f'{name} - Numeric Feature Distributions')\n",
    "    plt.show()\n",
    "    plt.figure(figsize=(10, 7))\n",
    "    sns.heatmap(df[num_cols].corr(), annot=True, cmap='coolwarm')\n",
    "    plt.title(f'{name} - Correlation Heatmap')\n",
    "    plt.show()\n"
   ]
  }
 ],
 "metadata": {
  "kernelspec": {
   "display_name": "Python 3",
   "language": "python",
   "name": "python3"
  },
  "language_info": {
   "name": "python",
   "version": "3.8"
  }
 },
 "nbformat": 4,
 "nbformat_minor": 2
}
